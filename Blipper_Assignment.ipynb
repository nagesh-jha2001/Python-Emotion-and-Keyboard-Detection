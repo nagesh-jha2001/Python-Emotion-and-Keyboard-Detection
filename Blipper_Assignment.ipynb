{
  "cells": [
    {
      "cell_type": "code",
      "execution_count": 73,
      "metadata": {
        "id": "-CTYHeJboQbd"
      },
      "outputs": [],
      "source": [
        "from sklearn.model_selection import train_test_split\n",
        "from sklearn.svm import SVC\n",
        "import pandas as pd\n",
        "from sklearn.preprocessing import LabelEncoder\n",
        "import librosa\n",
        "import numpy as np\n",
        "from sklearn.metrics import classification_report\n",
        "import matplotlib.pyplot as plt\n",
        "import speech_recognition as sr"
      ]
    },
    {
      "cell_type": "code",
      "execution_count": 74,
      "metadata": {
        "id": "wwxZg2SPvrwG"
      },
      "outputs": [],
      "source": [
        "# Loading the dataset\n",
        "df = pd.read_csv('cleaned_emotion.csv')"
      ]
    },
    {
      "cell_type": "code",
      "execution_count": 75,
      "metadata": {
        "id": "tLb_UJehvuUB"
      },
      "outputs": [],
      "source": [
        "# Encoding the labels\n",
        "label_encoder = LabelEncoder()\n",
        "df['label'] = label_encoder.fit_transform(df['label'])"
      ]
    },
    {
      "cell_type": "code",
      "execution_count": 76,
      "metadata": {
        "id": "Yj-LoOWHvweh"
      },
      "outputs": [],
      "source": [
        "# Defining features and target\n",
        "X = df.drop('label', axis=1)\n",
        "y = df['label']"
      ]
    },
    {
      "cell_type": "code",
      "execution_count": 77,
      "metadata": {
        "id": "3ganV6g6vyil"
      },
      "outputs": [],
      "source": [
        "# Spliting the data into training and testing sets\n",
        "X_train, X_test, y_train, y_test = train_test_split(X, y, test_size=0.2, random_state=42)"
      ]
    },
    {
      "cell_type": "code",
      "execution_count": 78,
      "metadata": {
        "colab": {
          "base_uri": "https://localhost:8080/",
          "height": 74
        },
        "id": "PmYAmsXnv036",
        "outputId": "d0f704cd-7827-450f-8c31-9b11fa8aa4a8"
      },
      "outputs": [
        {
          "data": {
            "text/html": [
              "<style>#sk-container-id-6 {color: black;background-color: white;}#sk-container-id-6 pre{padding: 0;}#sk-container-id-6 div.sk-toggleable {background-color: white;}#sk-container-id-6 label.sk-toggleable__label {cursor: pointer;display: block;width: 100%;margin-bottom: 0;padding: 0.3em;box-sizing: border-box;text-align: center;}#sk-container-id-6 label.sk-toggleable__label-arrow:before {content: \"▸\";float: left;margin-right: 0.25em;color: #696969;}#sk-container-id-6 label.sk-toggleable__label-arrow:hover:before {color: black;}#sk-container-id-6 div.sk-estimator:hover label.sk-toggleable__label-arrow:before {color: black;}#sk-container-id-6 div.sk-toggleable__content {max-height: 0;max-width: 0;overflow: hidden;text-align: left;background-color: #f0f8ff;}#sk-container-id-6 div.sk-toggleable__content pre {margin: 0.2em;color: black;border-radius: 0.25em;background-color: #f0f8ff;}#sk-container-id-6 input.sk-toggleable__control:checked~div.sk-toggleable__content {max-height: 200px;max-width: 100%;overflow: auto;}#sk-container-id-6 input.sk-toggleable__control:checked~label.sk-toggleable__label-arrow:before {content: \"▾\";}#sk-container-id-6 div.sk-estimator input.sk-toggleable__control:checked~label.sk-toggleable__label {background-color: #d4ebff;}#sk-container-id-6 div.sk-label input.sk-toggleable__control:checked~label.sk-toggleable__label {background-color: #d4ebff;}#sk-container-id-6 input.sk-hidden--visually {border: 0;clip: rect(1px 1px 1px 1px);clip: rect(1px, 1px, 1px, 1px);height: 1px;margin: -1px;overflow: hidden;padding: 0;position: absolute;width: 1px;}#sk-container-id-6 div.sk-estimator {font-family: monospace;background-color: #f0f8ff;border: 1px dotted black;border-radius: 0.25em;box-sizing: border-box;margin-bottom: 0.5em;}#sk-container-id-6 div.sk-estimator:hover {background-color: #d4ebff;}#sk-container-id-6 div.sk-parallel-item::after {content: \"\";width: 100%;border-bottom: 1px solid gray;flex-grow: 1;}#sk-container-id-6 div.sk-label:hover label.sk-toggleable__label {background-color: #d4ebff;}#sk-container-id-6 div.sk-serial::before {content: \"\";position: absolute;border-left: 1px solid gray;box-sizing: border-box;top: 0;bottom: 0;left: 50%;z-index: 0;}#sk-container-id-6 div.sk-serial {display: flex;flex-direction: column;align-items: center;background-color: white;padding-right: 0.2em;padding-left: 0.2em;position: relative;}#sk-container-id-6 div.sk-item {position: relative;z-index: 1;}#sk-container-id-6 div.sk-parallel {display: flex;align-items: stretch;justify-content: center;background-color: white;position: relative;}#sk-container-id-6 div.sk-item::before, #sk-container-id-6 div.sk-parallel-item::before {content: \"\";position: absolute;border-left: 1px solid gray;box-sizing: border-box;top: 0;bottom: 0;left: 50%;z-index: -1;}#sk-container-id-6 div.sk-parallel-item {display: flex;flex-direction: column;z-index: 1;position: relative;background-color: white;}#sk-container-id-6 div.sk-parallel-item:first-child::after {align-self: flex-end;width: 50%;}#sk-container-id-6 div.sk-parallel-item:last-child::after {align-self: flex-start;width: 50%;}#sk-container-id-6 div.sk-parallel-item:only-child::after {width: 0;}#sk-container-id-6 div.sk-dashed-wrapped {border: 1px dashed gray;margin: 0 0.4em 0.5em 0.4em;box-sizing: border-box;padding-bottom: 0.4em;background-color: white;}#sk-container-id-6 div.sk-label label {font-family: monospace;font-weight: bold;display: inline-block;line-height: 1.2em;}#sk-container-id-6 div.sk-label-container {text-align: center;}#sk-container-id-6 div.sk-container {/* jupyter's `normalize.less` sets `[hidden] { display: none; }` but bootstrap.min.css set `[hidden] { display: none !important; }` so we also need the `!important` here to be able to override the default hidden behavior on the sphinx rendered scikit-learn.org. See: https://github.com/scikit-learn/scikit-learn/issues/21755 */display: inline-block !important;position: relative;}#sk-container-id-6 div.sk-text-repr-fallback {display: none;}</style><div id=\"sk-container-id-6\" class=\"sk-top-container\"><div class=\"sk-text-repr-fallback\"><pre>SVC(C=1000, gamma=0.01)</pre><b>In a Jupyter environment, please rerun this cell to show the HTML representation or trust the notebook. <br />On GitHub, the HTML representation is unable to render, please try loading this page with nbviewer.org.</b></div><div class=\"sk-container\" hidden><div class=\"sk-item\"><div class=\"sk-estimator sk-toggleable\"><input class=\"sk-toggleable__control sk-hidden--visually\" id=\"sk-estimator-id-6\" type=\"checkbox\" checked><label for=\"sk-estimator-id-6\" class=\"sk-toggleable__label sk-toggleable__label-arrow\">SVC</label><div class=\"sk-toggleable__content\"><pre>SVC(C=1000, gamma=0.01)</pre></div></div></div></div></div>"
            ],
            "text/plain": [
              "SVC(C=1000, gamma=0.01)"
            ]
          },
          "execution_count": 78,
          "metadata": {},
          "output_type": "execute_result"
        }
      ],
      "source": [
        "# Training an SVM classifier\n",
        "svm_model = SVC(C=1000, gamma=0.01)\n",
        "svm_model.fit(X_train, y_train)"
      ]
    },
    {
      "cell_type": "code",
      "execution_count": 79,
      "metadata": {
        "colab": {
          "base_uri": "https://localhost:8080/"
        },
        "id": "UIK6E4uDwCEO",
        "outputId": "5fce40c0-746c-4823-a298-92b317180321"
      },
      "outputs": [
        {
          "name": "stdout",
          "output_type": "stream",
          "text": [
            "SVM Emotion Prediction: sad\n",
            "\n",
            "SVM Classification Report:\n",
            "               precision    recall  f1-score   support\n",
            "\n",
            "       angry       0.92      0.96      0.94        56\n",
            "       happy       0.92      0.86      0.89        63\n",
            "         sad       0.89      0.90      0.90        63\n",
            "\n",
            "    accuracy                           0.91       182\n",
            "   macro avg       0.91      0.91      0.91       182\n",
            "weighted avg       0.91      0.91      0.91       182\n",
            "\n"
          ]
        }
      ],
      "source": [
        "# Evaluating the SVM model and print the classification report\n",
        "svm_y_pred = svm_model.predict(X_test)\n",
        "svm_classification_report = classification_report(y_test, svm_y_pred, target_names=label_encoder.classes_)\n",
        "\n",
        "print(\"SVM Emotion Prediction:\", svm_emotion_prediction)\n",
        "print(\"\\nSVM Classification Report:\\n\", svm_classification_report)"
      ]
    },
    {
      "cell_type": "code",
      "execution_count": 80,
      "metadata": {
        "id": "bKZnoKbEv2uN"
      },
      "outputs": [],
      "source": [
        "# Defining a function for emotion prediction from voice using the trained SVM\n",
        "def predict_emotion(audio_file_path):\n",
        "    try:\n",
        "        audio, _ = librosa.load(audio_file_path, sr=22050, duration=2.5)\n",
        "\n",
        "        # Extract all the features from your dataset\n",
        "        features = []\n",
        "        for feature_name in X.columns:\n",
        "            # Extract each feature from the audio\n",
        "            feature_value = np.mean(librosa.feature.mfcc(y=audio, sr=22050, n_mfcc=13))\n",
        "            features.append(feature_value)\n",
        "\n",
        "        # Flatten the list of features into a single feature vector\n",
        "        feature_vector = np.hstack(features)\n",
        "\n",
        "        # Make predictions using the trained SVM model\n",
        "        svm_prediction = svm_model.predict([feature_vector])[0]\n",
        "\n",
        "        # Convert label encoding back to original labels\n",
        "        svm_emotion = label_encoder.inverse_transform([svm_prediction])[0]\n",
        "\n",
        "        return svm_emotion\n",
        "    except Exception as e:\n",
        "        return {\"error\": str(e)}"
      ]
    },
    {
      "cell_type": "code",
      "execution_count": 86,
      "metadata": {
        "id": "YXBAZ1X90uLD"
      },
      "outputs": [],
      "source": [
        "# Defining a function for keyword detection\n",
        "def detect_keyword(audio_file_path, keyword):\n",
        "    recognizer = sr.Recognizer()\n",
        "\n",
        "    # Load audio from file\n",
        "    with sr.AudioFile(audio_file_path) as source:\n",
        "        audio_data = recognizer.record(source)\n",
        "\n",
        "    try:\n",
        "        # Perform speech recognition\n",
        "        detected_text = recognizer.recognize_google(audio_data)\n",
        "\n",
        "        # Check if the keyword is present in the detected text\n",
        "        if keyword in detected_text.lower():\n",
        "            return \"Keyword Detected\"\n",
        "        else:\n",
        "            return \"Keyword Not Detected\"\n",
        "    except sr.UnknownValueError:\n",
        "        return \"Speech Recognition could not understand audio\"\n",
        "    except sr.RequestError as e:\n",
        "        return f\"Could not request results from Google Speech Recognition service; {e}\""
      ]
    },
    {
      "cell_type": "code",
      "execution_count": 82,
      "metadata": {
        "colab": {
          "base_uri": "https://localhost:8080/"
        },
        "id": "pARkKrpIxtrm",
        "outputId": "a5eebc34-99e6-4ade-ec63-cd125bede344"
      },
      "outputs": [
        {
          "name": "stderr",
          "output_type": "stream",
          "text": [
            "/usr/local/lib/python3.10/dist-packages/sklearn/base.py:439: UserWarning: X does not have valid feature names, but SVC was fitted with feature names\n",
            "  warnings.warn(\n",
            "/usr/local/lib/python3.10/dist-packages/sklearn/base.py:439: UserWarning: X does not have valid feature names, but SVC was fitted with feature names\n",
            "  warnings.warn(\n"
          ]
        },
        {
          "name": "stdout",
          "output_type": "stream",
          "text": [
            "    Audio File Predicted Emotion\n",
            "0  000 (1).wav               sad\n",
            "1  000 (2).wav               sad\n",
            "2  000 (3).wav               sad\n"
          ]
        },
        {
          "name": "stderr",
          "output_type": "stream",
          "text": [
            "/usr/local/lib/python3.10/dist-packages/sklearn/base.py:439: UserWarning: X does not have valid feature names, but SVC was fitted with feature names\n",
            "  warnings.warn(\n"
          ]
        }
      ],
      "source": [
        "# List of audio file paths\n",
        "audio_file_paths = ['000 (1).wav', '000 (2).wav', '000 (3).wav']\n",
        "keyword_to_detect = \"bad\"\n",
        "# Predicting emotions and creating a table\n",
        "emotion_predictions = []\n",
        "for audio_file_path in audio_file_paths:\n",
        "    predicted_emotion = predict_emotion(audio_file_path)\n",
        "    emotion_predictions.append({\"Audio File\": audio_file_path, \"Predicted Emotion\": predicted_emotion})\n",
        "\n",
        "predictions_df = pd.DataFrame(emotion_predictions)\n",
        "\n",
        "# Printing the table\n",
        "print(predictions_df)"
      ]
    },
    {
      "cell_type": "code",
      "execution_count": 83,
      "metadata": {
        "colab": {
          "base_uri": "https://localhost:8080/",
          "height": 542
        },
        "id": "DVQnbh-yx7FR",
        "outputId": "2bbf10a1-8bf6-48d9-f3f1-f4af018ee403"
      },
      "outputs": [
        {
          "data": {
            "image/png": "[encoded data removed]",
            "text/plain": [
              "<Figure size 1000x500 with 1 Axes>"
            ]
          },
          "metadata": {},
          "output_type": "display_data"
        }
      ],
      "source": [
        "# Plotting the predicted emotions in a smooth line chart\n",
        "plt.figure(figsize=(10, 5))\n",
        "time_points = range(len(audio_file_paths))\n",
        "predicted_emotions = [1 if emotion == 'happy' else -1 for emotion in predictions_df['Predicted Emotion']]\n",
        "plt.plot(time_points, predicted_emotions, marker='o', linestyle='-')\n",
        "plt.xticks(time_points, audio_file_paths, rotation=45)\n",
        "plt.xlabel(\"Audio File\")\n",
        "plt.ylabel(\"Emotion (Happy: +1, Sad: -1)\")\n",
        "plt.title(\"Predicted Emotions Over Time\")\n",
        "plt.grid()\n",
        "plt.show()"
      ]
    },
    {
      "cell_type": "code",
      "execution_count": 87,
      "metadata": {
        "colab": {
          "base_uri": "https://localhost:8080/"
        },
        "id": "35F9padN1NVz",
        "outputId": "444856e1-6e90-41ec-daf0-c0d7582cb34e"
      },
      "outputs": [
        {
          "name": "stdout",
          "output_type": "stream",
          "text": [
            "    Audio File                       Keyword Detection Result\n",
            "0  000 (1).wav                           Keyword Not Detected\n",
            "1  000 (2).wav  Speech Recognition could not understand audio\n",
            "2  000 (3).wav                           Keyword Not Detected\n"
          ]
        }
      ],
      "source": [
        "# Detecting keywords and creating a table\n",
        "keyword_detections = []\n",
        "for audio_file_path in audio_file_paths:\n",
        "    detection_result = detect_keyword(audio_file_path, keyword_to_detect)\n",
        "    keyword_detections.append({\"Audio File\": audio_file_path, \"Keyword Detection Result\": detection_result})\n",
        "\n",
        "detections_df = pd.DataFrame(keyword_detections)\n",
        "\n",
        "# Printing the table\n",
        "print(detections_df)"
      ]
    },
    {
      "cell_type": "code",
      "execution_count": 67,
      "metadata": {
        "colab": {
          "base_uri": "https://localhost:8080/"
        },
        "id": "Cq-b8nbav5q7",
        "outputId": "a62eb3a9-3458-4bb2-a66a-ce507919210c"
      },
      "outputs": [
        {
          "name": "stdout",
          "output_type": "stream",
          "text": [
            "Prediction for the uploaded voice: sad\n"
          ]
        },
        {
          "name": "stderr",
          "output_type": "stream",
          "text": [
            "/usr/local/lib/python3.10/dist-packages/sklearn/base.py:439: UserWarning: X does not have valid feature names, but SVC was fitted with feature names\n",
            "  warnings.warn(\n"
          ]
        }
      ],
      "source": [
        "# Example usage for user to upload his voice and tesy his prediction:\n",
        "audio_file_path = '000 (1).wav'  # Replace with the path to your audio file\n",
        "svm_emotion_prediction = predict_emotion(audio_file_path)\n",
        "print(\"Prediction for the uploaded voice:\",svm_emotion_prediction)"
      ]
    }
  ],
  "metadata": {
    "colab": {
      "provenance": []
    },
    "kernelspec": {
      "display_name": "Python 3",
      "name": "python3"
    },
    "language_info": {
      "name": "python"
    }
  },
  "nbformat": 4,
  "nbformat_minor": 0
}
